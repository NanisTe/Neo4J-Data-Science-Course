{
  "nbformat": 4,
  "nbformat_minor": 0,
  "metadata": {
    "kernelspec": {
      "display_name": "Python 3",
      "language": "python",
      "name": "python3"
    },
    "language_info": {
      "codemirror_mode": {
        "name": "ipython",
        "version": 3
      },
      "file_extension": ".py",
      "mimetype": "text/x-python",
      "name": "python",
      "nbconvert_exporter": "python",
      "pygments_lexer": "ipython3",
      "version": "3.6.7"
    },
    "colab": {
      "name": "03_Recommendations_Part1.ipynb",
      "provenance": [],
      "include_colab_link": true
    }
  },
  "cells": [
    {
      "cell_type": "markdown",
      "metadata": {
        "id": "view-in-github",
        "colab_type": "text"
      },
      "source": [
        "<a href=\"https://colab.research.google.com/github/NanisTe/Neo4J-Data-Science-Course/blob/master/Courses/DataScience/notebooks/03_Recommendations_Part1.ipynb\" target=\"_parent\"><img src=\"https://colab.research.google.com/assets/colab-badge.svg\" alt=\"Open In Colab\"/></a>"
      ]
    },
    {
      "cell_type": "markdown",
      "metadata": {
        "pycharm": {},
        "id": "gEIw1vAFr2x3",
        "colab_type": "text"
      },
      "source": [
        "# Recommendations: Part 1\n",
        "\n",
        "In this notebook you will learn how to make recommendations using Neo4j. \n",
        "\n",
        "Execute the code to import the libraries (remember to unset Reset all runtimes before running):"
      ]
    },
    {
      "cell_type": "code",
      "metadata": {
        "id": "S3bzOdVXr9mE",
        "colab_type": "code",
        "colab": {
          "base_uri": "https://localhost:8080/",
          "height": 1000
        },
        "outputId": "87a83e32-9590-437d-a1b4-87ac2654b8f1"
      },
      "source": [
        "!pip install py2neo==4.1.3 pandas matplotlib sklearn"
      ],
      "execution_count": 1,
      "outputs": [
        {
          "output_type": "stream",
          "text": [
            "Collecting py2neo==4.1.3\n",
            "\u001b[?25l  Downloading https://files.pythonhosted.org/packages/23/ca/c8de5a2c754d75c70473c849a23f49971b60914e6d6c00c9328ff64f56c5/py2neo-4.1.3.tar.gz (70kB)\n",
            "\r\u001b[K     |████▋                           | 10kB 20.4MB/s eta 0:00:01\r\u001b[K     |█████████▎                      | 20kB 3.1MB/s eta 0:00:01\r\u001b[K     |█████████████▉                  | 30kB 4.4MB/s eta 0:00:01\r\u001b[K     |██████████████████▌             | 40kB 2.9MB/s eta 0:00:01\r\u001b[K     |███████████████████████         | 51kB 3.6MB/s eta 0:00:01\r\u001b[K     |███████████████████████████▊    | 61kB 4.2MB/s eta 0:00:01\r\u001b[K     |████████████████████████████████| 71kB 3.4MB/s \n",
            "\u001b[?25hRequirement already satisfied: pandas in /usr/local/lib/python3.6/dist-packages (0.25.3)\n",
            "Requirement already satisfied: matplotlib in /usr/local/lib/python3.6/dist-packages (3.2.0)\n",
            "Requirement already satisfied: sklearn in /usr/local/lib/python3.6/dist-packages (0.0)\n",
            "Requirement already satisfied: click>=2.0 in /usr/local/lib/python3.6/dist-packages (from py2neo==4.1.3) (7.1.1)\n",
            "Collecting colorama\n",
            "  Downloading https://files.pythonhosted.org/packages/c9/dc/45cdef1b4d119eb96316b3117e6d5708a08029992b2fee2c143c7a0a5cc5/colorama-0.4.3-py2.py3-none-any.whl\n",
            "Collecting neo4j-driver<1.7,>=1.6.2\n",
            "\u001b[?25l  Downloading https://files.pythonhosted.org/packages/12/db/1c68c1c244ea4afedf14459645a9c5e4124b9fbec12b2da02ed084ac32f7/neo4j-driver-1.6.3.tar.gz (188kB)\n",
            "\u001b[K     |████████████████████████████████| 194kB 14.1MB/s \n",
            "\u001b[?25hCollecting neotime==1.0.0\n",
            "  Downloading https://files.pythonhosted.org/packages/fe/0c/9ca123125fb3cda9281f30e90b493e8ae3bb9bf6965bb7f275713fa02dd2/neotime-1.0.0.tar.gz\n",
            "Collecting prompt_toolkit==1.0.15\n",
            "\u001b[?25l  Downloading https://files.pythonhosted.org/packages/04/d1/c6616dd03701e7e2073f06d5c3b41b012256e42b72561f16a7bd86dd7b43/prompt_toolkit-1.0.15-py3-none-any.whl (247kB)\n",
            "\u001b[K     |████████████████████████████████| 256kB 45.6MB/s \n",
            "\u001b[?25hRequirement already satisfied: pygments>=2.0 in /usr/local/lib/python3.6/dist-packages (from py2neo==4.1.3) (2.1.3)\n",
            "Requirement already satisfied: pytest in /usr/local/lib/python3.6/dist-packages (from py2neo==4.1.3) (3.6.4)\n",
            "Collecting urllib3[secure]<1.23,>=1.21.1\n",
            "\u001b[?25l  Downloading https://files.pythonhosted.org/packages/63/cb/6965947c13a94236f6d4b8223e21beb4d576dc72e8130bd7880f600839b8/urllib3-1.22-py2.py3-none-any.whl (132kB)\n",
            "\u001b[K     |████████████████████████████████| 133kB 53.0MB/s \n",
            "\u001b[?25hRequirement already satisfied: pytz>=2017.2 in /usr/local/lib/python3.6/dist-packages (from pandas) (2018.9)\n",
            "Requirement already satisfied: python-dateutil>=2.6.1 in /usr/local/lib/python3.6/dist-packages (from pandas) (2.8.1)\n",
            "Requirement already satisfied: numpy>=1.13.3 in /usr/local/lib/python3.6/dist-packages (from pandas) (1.18.2)\n",
            "Requirement already satisfied: cycler>=0.10 in /usr/local/lib/python3.6/dist-packages (from matplotlib) (0.10.0)\n",
            "Requirement already satisfied: pyparsing!=2.0.4,!=2.1.2,!=2.1.6,>=2.0.1 in /usr/local/lib/python3.6/dist-packages (from matplotlib) (2.4.6)\n",
            "Requirement already satisfied: kiwisolver>=1.0.1 in /usr/local/lib/python3.6/dist-packages (from matplotlib) (1.1.0)\n",
            "Requirement already satisfied: scikit-learn in /usr/local/lib/python3.6/dist-packages (from sklearn) (0.22.2.post1)\n",
            "Requirement already satisfied: six in /usr/local/lib/python3.6/dist-packages (from neotime==1.0.0->py2neo==4.1.3) (1.12.0)\n",
            "Requirement already satisfied: wcwidth in /usr/local/lib/python3.6/dist-packages (from prompt_toolkit==1.0.15->py2neo==4.1.3) (0.1.8)\n",
            "Requirement already satisfied: attrs>=17.4.0 in /usr/local/lib/python3.6/dist-packages (from pytest->py2neo==4.1.3) (19.3.0)\n",
            "Requirement already satisfied: more-itertools>=4.0.0 in /usr/local/lib/python3.6/dist-packages (from pytest->py2neo==4.1.3) (8.2.0)\n",
            "Requirement already satisfied: py>=1.5.0 in /usr/local/lib/python3.6/dist-packages (from pytest->py2neo==4.1.3) (1.8.1)\n",
            "Requirement already satisfied: atomicwrites>=1.0 in /usr/local/lib/python3.6/dist-packages (from pytest->py2neo==4.1.3) (1.3.0)\n",
            "Requirement already satisfied: setuptools in /usr/local/lib/python3.6/dist-packages (from pytest->py2neo==4.1.3) (46.0.0)\n",
            "Requirement already satisfied: pluggy<0.8,>=0.5 in /usr/local/lib/python3.6/dist-packages (from pytest->py2neo==4.1.3) (0.7.1)\n",
            "Requirement already satisfied: certifi; extra == \"secure\" in /usr/local/lib/python3.6/dist-packages (from urllib3[secure]<1.23,>=1.21.1->py2neo==4.1.3) (2019.11.28)\n",
            "Requirement already satisfied: scipy>=0.17.0 in /usr/local/lib/python3.6/dist-packages (from scikit-learn->sklearn) (1.4.1)\n",
            "Requirement already satisfied: joblib>=0.11 in /usr/local/lib/python3.6/dist-packages (from scikit-learn->sklearn) (0.14.1)\n",
            "Building wheels for collected packages: py2neo, neo4j-driver, neotime\n",
            "  Building wheel for py2neo (setup.py) ... \u001b[?25l\u001b[?25hdone\n",
            "  Created wheel for py2neo: filename=py2neo-4.1.3-py2.py3-none-any.whl size=89804 sha256=3c1dc2a237a9c9575b7eec56f5d62df6c4c1c50bbb5b9bdaceb43db9e42c333e\n",
            "  Stored in directory: /root/.cache/pip/wheels/49/b4/f8/df22db284f7ec2f6c26f87a87ff38c6c8ffa84baf2930ef0fe\n",
            "  Building wheel for neo4j-driver (setup.py) ... \u001b[?25l\u001b[?25hdone\n",
            "  Created wheel for neo4j-driver: filename=neo4j_driver-1.6.3-cp36-cp36m-linux_x86_64.whl size=525045 sha256=ea5ece619283ffd7104a3211ef80197005ae0b90a1cc05ffedf9797bab4e32d5\n",
            "  Stored in directory: /root/.cache/pip/wheels/e3/3d/6f/b1afb54585268913bb38334adaa58c2938911edc85102803a1\n",
            "  Building wheel for neotime (setup.py) ... \u001b[?25l\u001b[?25hdone\n",
            "  Created wheel for neotime: filename=neotime-1.0.0-cp36-none-any.whl size=14714 sha256=73dddcc56a73974fd27e20e843f5d353a5537b41629cddc9a71237417091058b\n",
            "  Stored in directory: /root/.cache/pip/wheels/19/1c/63/e1777cae4998cb32c5ae5bb1901def45cc94de3abff4d7053d\n",
            "Successfully built py2neo neo4j-driver neotime\n",
            "\u001b[31mERROR: datascience 0.10.6 has requirement folium==0.2.1, but you'll have folium 0.8.3 which is incompatible.\u001b[0m\n",
            "\u001b[31mERROR: neo4j-driver 1.6.3 has requirement neotime<1.8,>=1.7.1, but you'll have neotime 1.0.0 which is incompatible.\u001b[0m\n",
            "Installing collected packages: colorama, neotime, neo4j-driver, prompt-toolkit, urllib3, py2neo\n",
            "  Found existing installation: prompt-toolkit 1.0.18\n",
            "    Uninstalling prompt-toolkit-1.0.18:\n",
            "      Successfully uninstalled prompt-toolkit-1.0.18\n",
            "  Found existing installation: urllib3 1.24.3\n",
            "    Uninstalling urllib3-1.24.3:\n",
            "      Successfully uninstalled urllib3-1.24.3\n",
            "Successfully installed colorama-0.4.3 neo4j-driver-1.6.3 neotime-1.0.0 prompt-toolkit-1.0.15 py2neo-4.1.3 urllib3-1.22\n"
          ],
          "name": "stdout"
        },
        {
          "output_type": "display_data",
          "data": {
            "application/vnd.colab-display-data+json": {
              "pip_warning": {
                "packages": [
                  "prompt_toolkit",
                  "urllib3"
                ]
              }
            }
          },
          "metadata": {
            "tags": []
          }
        }
      ]
    },
    {
      "cell_type": "code",
      "metadata": {
        "pycharm": {},
        "id": "Mec-ZQP9r2x-",
        "colab_type": "code",
        "colab": {}
      },
      "source": [
        "from py2neo import Graph\n",
        "import pandas as pd\n",
        "\n",
        "import matplotlib \n",
        "import matplotlib.pyplot as plt\n",
        "\n",
        "plt.style.use('fivethirtyeight')\n",
        "pd.set_option('display.float_format', lambda x: '%.3f' % x)\n",
        "pd.set_option('display.max_colwidth', 100)"
      ],
      "execution_count": 0,
      "outputs": []
    },
    {
      "cell_type": "markdown",
      "metadata": {
        "pycharm": {},
        "id": "-URvZ-aTr2yH",
        "colab_type": "text"
      },
      "source": [
        "Next, create a connection to your Neo4j Sandbox, just as you did previously when you set up your environment. \n",
        "\n",
        "<div align=\"left\">\n",
        "    <img src=\"https://github.com/NanisTe/training-v2/blob/master/Courses/DataScience/notebooks/images/sandbox-citations.png?raw=1\" alt=\"Citation Sandbox\"/>\n",
        "</div>\n",
        "\n",
        "Update the cell below to use the IP Address, Bolt Port, and Password, as you did previously."
      ]
    },
    {
      "cell_type": "code",
      "metadata": {
        "pycharm": {},
        "id": "Vks5bJlQr2yJ",
        "colab_type": "code",
        "colab": {}
      },
      "source": [
        "# Change the line of code below to use the IP Address, Bolt Port, and Password of your Sandbox.\n",
        "# graph = Graph(\"bolt://<IP Address>:<Bolt Port>\", auth=(\"neo4j\", \"<Password>\")) \n",
        " \n",
        "graph = Graph(\"bolt://52.3.242.176:33698\", auth=(\"neo4j\", \"equivalent-listing-parts\"))"
      ],
      "execution_count": 0,
      "outputs": []
    },
    {
      "cell_type": "markdown",
      "metadata": {
        "pycharm": {},
        "id": "ONjlqboZr2yZ",
        "colab_type": "text"
      },
      "source": [
        "##  Finding popular authors\n",
        "\n",
        "Since we're going to make collaborator suggestions find authors who have written the most articles so that we have some data to work with."
      ]
    },
    {
      "cell_type": "code",
      "metadata": {
        "pycharm": {},
        "id": "Jxvl6GSyr2yb",
        "colab_type": "code",
        "colab": {}
      },
      "source": [
        "popular_authors_query = \"\"\"\n",
        "MATCH (author:Author)\n",
        "RETURN author.name, size((author)<-[:AUTHOR]-()) AS articlesPublished\n",
        "ORDER BY articlesPublished DESC\n",
        "LIMIT 10\n",
        "\"\"\"\n",
        "\n",
        "graph.run(popular_authors_query).to_data_frame()"
      ],
      "execution_count": 0,
      "outputs": []
    },
    {
      "cell_type": "markdown",
      "metadata": {
        "pycharm": {},
        "id": "0CiwGyByr2yj",
        "colab_type": "text"
      },
      "source": [
        "Pick one of these authors..."
      ]
    },
    {
      "cell_type": "code",
      "metadata": {
        "pycharm": {},
        "id": "UOGiPuLsr2yl",
        "colab_type": "code",
        "colab": {}
      },
      "source": [
        "author_name = \"Peter G. Neumann\""
      ],
      "execution_count": 0,
      "outputs": []
    },
    {
      "cell_type": "markdown",
      "metadata": {
        "pycharm": {},
        "id": "A4u5bIwir2ys",
        "colab_type": "text"
      },
      "source": [
        "Retrieve the articles they've published and how many citations they've received:"
      ]
    },
    {
      "cell_type": "code",
      "metadata": {
        "pycharm": {},
        "id": "dIM1S2bzr2yu",
        "colab_type": "code",
        "colab": {}
      },
      "source": [
        "author_articles_query = \"\"\"\n",
        "MATCH (:Author {name: $authorName})<-[:AUTHOR]-(article)\n",
        "RETURN article.title AS article, article.year AS year, size((article)<-[:CITED]-()) AS citations\n",
        "ORDER BY citations DESC\n",
        "LIMIT 20\n",
        "\"\"\"\n",
        "\n",
        "graph.run(author_articles_query,  {\"authorName\": author_name}).to_data_frame()"
      ],
      "execution_count": 0,
      "outputs": []
    },
    {
      "cell_type": "markdown",
      "metadata": {
        "pycharm": {},
        "id": "h8dDpMlHr2y6",
        "colab_type": "text"
      },
      "source": [
        "Find the author's collaborators:"
      ]
    },
    {
      "cell_type": "code",
      "metadata": {
        "pycharm": {},
        "id": "my0x0gEVr2y8",
        "colab_type": "code",
        "colab": {}
      },
      "source": [
        "collaborations_query = \"\"\"\n",
        "MATCH (:Author {name: $authorName})<-[:AUTHOR]-(article)-[:AUTHOR]->(coauthor)\n",
        "RETURN coauthor.name AS coauthor, count(*) AS collaborations\n",
        "ORDER BY collaborations DESC\n",
        "LIMIT 10\n",
        "\"\"\"\n",
        "\n",
        "graph.run(collaborations_query,  {\"authorName\": author_name}).to_data_frame()"
      ],
      "execution_count": 0,
      "outputs": []
    },
    {
      "cell_type": "markdown",
      "metadata": {
        "pycharm": {},
        "id": "3_Kmhr75r2zD",
        "colab_type": "text"
      },
      "source": [
        "How would you suggest some future collaborators for this author? One way is by looking at the collaborators of their collaborators!"
      ]
    },
    {
      "cell_type": "code",
      "metadata": {
        "pycharm": {},
        "id": "Y0Ui54KHr2zF",
        "colab_type": "code",
        "colab": {}
      },
      "source": [
        "collaborations_query = \"\"\"\n",
        "MATCH (author:Author {name: $authorName})<-[:AUTHOR]-(article)-[:AUTHOR]->(coauthor),\n",
        "      (coauthor)<-[:AUTHOR]-()-[:AUTHOR]->(coc)\n",
        "WHERE not((coc)<-[:AUTHOR]-()-[:AUTHOR]->(author)) AND coc <> author      \n",
        "RETURN coc.name AS coauthor, count(*) AS collaborations\n",
        "ORDER BY collaborations DESC\n",
        "LIMIT 10\n",
        "\"\"\"\n",
        "\n",
        "graph.run(collaborations_query,  {\"authorName\": author_name}).to_data_frame()"
      ],
      "execution_count": 0,
      "outputs": []
    },
    {
      "cell_type": "markdown",
      "metadata": {
        "pycharm": {},
        "id": "L73efFb2r2zL",
        "colab_type": "text"
      },
      "source": [
        "Each of these people have collaborated with someone that Peter has worked with before, so they might be able to do an introduction."
      ]
    },
    {
      "cell_type": "markdown",
      "metadata": {
        "pycharm": {},
        "id": "4dr3BNWrr2zO",
        "colab_type": "text"
      },
      "source": [
        "## Exercise\n",
        "\n",
        "1. Can you find the top 20 suggested collaborators for 'Brian Fitzgerald' instead of 'Peter G. Neumann'?\n",
        "2. How many of these potential collaborators have collaborated with Brian's collaborators more than 3 times?\n",
        "\n",
        "Keep the results of this exercise handy as they may be useful for the quiz at the end of this module."
      ]
    }
  ]
}